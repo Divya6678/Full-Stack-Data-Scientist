{
 "cells": [
  {
   "cell_type": "code",
   "execution_count": null,
   "id": "c33e2e50",
   "metadata": {},
   "outputs": [],
   "source": [
    "class Employee:\n",
    "    def __init__(self,name,salary,role):\n",
    "        self.name=name\n",
    "        self.salary=salary\n",
    "        self.role=role\n",
    "    def bonus(self):\n",
    "        if self.role==\"Manager\":\n",
    "            bonus=(20/100)*"
   ]
  }
 ],
 "metadata": {
  "language_info": {
   "name": "python"
  }
 },
 "nbformat": 4,
 "nbformat_minor": 5
}
