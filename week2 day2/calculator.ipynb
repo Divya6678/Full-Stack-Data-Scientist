{
 "cells": [
  {
   "cell_type": "code",
   "execution_count": 1,
   "id": "0db9b69f",
   "metadata": {},
   "outputs": [
    {
     "name": "stdout",
     "output_type": "stream",
     "text": [
      "Division of 30 and 10 is 3.0\n"
     ]
    }
   ],
   "source": [
    "a=int(input(\"Enter operand 1\"))\n",
    "b=int(input(\"Enter operand2\"))\n",
    "c=input(\"Enter operator\")\n",
    "\n",
    "if c=='+':\n",
    "    print(f\"Addition of {a} and {b} is\",a+b)\n",
    "elif c=='-':\n",
    "    print(f\"Substraction of {a} and {b} is\",a-b)\n",
    "elif c=='*':\n",
    "    print(f\"Multiplication of {a} and {b} is\",a*b)\n",
    "elif c=='/':\n",
    "    print(f\"Division of {a} and {b} is\",a/b)\n",
    "else:\n",
    "    print(\"Enter valid operator\")"
   ]
  }
 ],
 "metadata": {
  "kernelspec": {
   "display_name": "venv",
   "language": "python",
   "name": "python3"
  },
  "language_info": {
   "codemirror_mode": {
    "name": "ipython",
    "version": 3
   },
   "file_extension": ".py",
   "mimetype": "text/x-python",
   "name": "python",
   "nbconvert_exporter": "python",
   "pygments_lexer": "ipython3",
   "version": "3.11.0"
  }
 },
 "nbformat": 4,
 "nbformat_minor": 5
}
