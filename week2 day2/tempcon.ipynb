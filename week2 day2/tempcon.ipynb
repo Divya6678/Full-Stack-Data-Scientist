{
 "cells": [
  {
   "cell_type": "code",
   "execution_count": null,
   "id": "5c2fe20c",
   "metadata": {},
   "outputs": [
    {
     "name": "stdout",
     "output_type": "stream",
     "text": [
      "Temperature 100 in Celsius is 37.78\n"
     ]
    }
   ],
   "source": [
    "a=input(\"Covert from C/F\")\n",
    "if a=='C':\n",
    "    tr=int(input(\"Enter temperature in Celsius\"))\n",
    "    t=round((tr* 9/5) + 32,2)\n",
    "    print(f\"Temperature {tr} in Fahrenheit is\",t)\n",
    "if a=='F':\n",
    "    tr=int(input(\"Enter temperature in Celsius\"))\n",
    "    t=round((tr - 32) * 5/9,2)\n",
    "    print(f\"Temperature {tr} in Celsius is\",t)"
   ]
  }
 ],
 "metadata": {
  "kernelspec": {
   "display_name": "venv",
   "language": "python",
   "name": "python3"
  },
  "language_info": {
   "codemirror_mode": {
    "name": "ipython",
    "version": 3
   },
   "file_extension": ".py",
   "mimetype": "text/x-python",
   "name": "python",
   "nbconvert_exporter": "python",
   "pygments_lexer": "ipython3",
   "version": "3.11.0"
  }
 },
 "nbformat": 4,
 "nbformat_minor": 5
}
