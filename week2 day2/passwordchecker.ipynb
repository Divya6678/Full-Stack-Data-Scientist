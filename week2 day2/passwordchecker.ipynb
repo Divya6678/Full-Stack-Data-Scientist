{
 "cells": [
  {
   "cell_type": "code",
   "execution_count": 3,
   "id": "dad38ade",
   "metadata": {},
   "outputs": [
    {
     "name": "stdout",
     "output_type": "stream",
     "text": [
      "Strong Password\n"
     ]
    }
   ],
   "source": [
    "str=input(\"Enter password\")\n",
    "if(len(str)>=8 and any(ch.isupper() for ch in str) and any(ch.islower() for ch in str) and any(ch.isdigit() for ch in str) and any(not ch.isalnum() for ch in str)):\n",
    "    print(\"Strong Password\")\n",
    "else:\n",
    "    print(\"Not Strong Password\")"
   ]
  }
 ],
 "metadata": {
  "kernelspec": {
   "display_name": "venv",
   "language": "python",
   "name": "python3"
  },
  "language_info": {
   "codemirror_mode": {
    "name": "ipython",
    "version": 3
   },
   "file_extension": ".py",
   "mimetype": "text/x-python",
   "name": "python",
   "nbconvert_exporter": "python",
   "pygments_lexer": "ipython3",
   "version": "3.11.0"
  }
 },
 "nbformat": 4,
 "nbformat_minor": 5
}
