{
 "cells": [
  {
   "cell_type": "code",
   "execution_count": null,
   "id": "163315d0",
   "metadata": {},
   "outputs": [
    {
     "name": "stdout",
     "output_type": "stream",
     "text": [
      "90\n"
     ]
    }
   ],
   "source": [
    "a,b,c,d,e=map(int,input(\"Enter 5 numbers\").split())\n",
    "l=max(a,b,c,d,e)\n",
    "print(l)\n"
   ]
  },
  {
   "cell_type": "code",
   "execution_count": 10,
   "id": "85b322fd",
   "metadata": {},
   "outputs": [
    {
     "name": "stdout",
     "output_type": "stream",
     "text": [
      "Palindrome\n"
     ]
    }
   ],
   "source": [
    "str=input(\"Enter String\")\n",
    "rev=\"\".join(reversed(str))\n",
    "if(str==rev):\n",
    "    print(\"Palindrome\")\n",
    "else:\n",
    "     print(\"Not Palindrome\")\n"
   ]
  },
  {
   "cell_type": "code",
   "execution_count": 15,
   "id": "226a4242",
   "metadata": {},
   "outputs": [
    {
     "name": "stdout",
     "output_type": "stream",
     "text": [
      "Factorial of 5 is  120\n"
     ]
    }
   ],
   "source": [
    "n=int(input(\"Enter a number\"))\n",
    "a=1\n",
    "for i in range(1,n+1):\n",
    "    a=a*i\n",
    "print(f\"Factorial of {n} is \",a)\n"
   ]
  },
  {
   "cell_type": "code",
   "execution_count": 17,
   "id": "3e85acdf",
   "metadata": {},
   "outputs": [
    {
     "name": "stdout",
     "output_type": "stream",
     "text": [
      "No\n"
     ]
    }
   ],
   "source": [
    "n=int(input(\"Enter a number\"))\n",
    "if(n%3 and n%5)==0:\n",
    "    print(\"Yes\")\n",
    "else:\n",
    "    print(\"No\")\n"
   ]
  },
  {
   "cell_type": "code",
   "execution_count": null,
   "id": "2b667320",
   "metadata": {},
   "outputs": [
    {
     "name": "stdout",
     "output_type": "stream",
     "text": [
      "Not Prime\n"
     ]
    }
   ],
   "source": [
    "n=int(input(\"Enter a number\"))\n",
    "if n>1:\n",
    "    for i in range(2,n):\n",
    "        if(n%i==0):\n",
    "            print(\"Not Prime\")\n",
    "            break\n",
    "    else:\n",
    "        print(\"Prime\")\n",
    "else:\n",
    "    print(\"Not Prime\")"
   ]
  },
  {
   "cell_type": "code",
   "execution_count": 40,
   "id": "d8b4deea",
   "metadata": {},
   "outputs": [
    {
     "name": "stdout",
     "output_type": "stream",
     "text": [
      "7\n"
     ]
    }
   ],
   "source": [
    "l=set(map(int,input(\"Enter a list\").split()))\n",
    "l=sorted(l)\n",
    "print(l[-2])"
   ]
  },
  {
   "cell_type": "code",
   "execution_count": 41,
   "id": "f9b8ab60",
   "metadata": {},
   "outputs": [
    {
     "name": "stdout",
     "output_type": "stream",
     "text": [
      "650\n"
     ]
    }
   ],
   "source": [
    "c=0\n",
    "for i in range(1,51):\n",
    "    if(i%2==0):\n",
    "        c+=i\n",
    "print(c)"
   ]
  },
  {
   "cell_type": "code",
   "execution_count": 46,
   "id": "fb0a7cf1",
   "metadata": {},
   "outputs": [
    {
     "name": "stdout",
     "output_type": "stream",
     "text": [
      "UpperCase Characters 2\n",
      "LowerCase Characters 8\n"
     ]
    }
   ],
   "source": [
    "c1=0\n",
    "c2=0\n",
    "str=input(\"Enter a String\")\n",
    "for i in str:\n",
    "    if(i.isupper()):\n",
    "        c1=c1+1\n",
    "    elif(i.islower()):\n",
    "        c2=c2+1\n",
    "print(\"UpperCase Characters\",c1)\n",
    "print(\"LowerCase Characters\",c2)"
   ]
  },
  {
   "cell_type": "code",
   "execution_count": 53,
   "id": "634297de",
   "metadata": {},
   "outputs": [
    {
     "name": "stdout",
     "output_type": "stream",
     "text": [
      "0 1 1 2 3 5 "
     ]
    }
   ],
   "source": [
    "def fib(n):\n",
    "    if n <= 1:\n",
    "        return n\n",
    "    else:\n",
    "        return fib(n-1) + fib(n-2)\n",
    "\n",
    "n = int(input(\"Enter a number: \"))\n",
    "for i in range(n):\n",
    "    print(fib(i), end=\" \")\n",
    "\n",
    "\n",
    "  \n"
   ]
  },
  {
   "cell_type": "code",
   "execution_count": 57,
   "id": "41e1ddc1",
   "metadata": {},
   "outputs": [
    {
     "name": "stdout",
     "output_type": "stream",
     "text": [
      "Anagrams\n"
     ]
    }
   ],
   "source": [
    "str1=input(\"Enter String 1\")\n",
    "str2=input(\"Enter String 2\")\n",
    "s1=sorted(str1)\n",
    "s2=sorted(str2)\n",
    "if(s1==s2):\n",
    "    print(\"Anagrams\")\n",
    "else:\n",
    "    print(\"Not Anagrams\")"
   ]
  },
  {
   "cell_type": "code",
   "execution_count": 62,
   "id": "c90123bf",
   "metadata": {},
   "outputs": [
    {
     "name": "stdout",
     "output_type": "stream",
     "text": [
      "Perfect Number\n"
     ]
    }
   ],
   "source": [
    "n=int(input(\"Enter a number\"))\n",
    "c=0\n",
    "for i in range(1,n):\n",
    "    if(n%i==0):\n",
    "        c+=i\n",
    "if(c==n):\n",
    "    print(\"Perfect Number\")\n",
    "else:\n",
    "    print(\"Not Perfect Number\")"
   ]
  },
  {
   "cell_type": "code",
   "execution_count": 65,
   "id": "a14d1fc8",
   "metadata": {},
   "outputs": [
    {
     "name": "stdout",
     "output_type": "stream",
     "text": [
      "Fail\n"
     ]
    }
   ],
   "source": [
    "l=list(map(int,input(\"Enter marks of 5 subjects\").split()))\n",
    "per=sum(l)\n",
    "percentage=(per/500)*100\n",
    "if(percentage>=90):\n",
    "    print(\"grade A\")\n",
    "elif(percentage>=75):\n",
    "    print(\"grade B\")\n",
    "elif(percentage>=50):\n",
    "    print(\"grade C\")\n",
    "elif(percentage<50):\n",
    "    print(\"Fail\")"
   ]
  },
  {
   "cell_type": "code",
   "execution_count": null,
   "id": "cdc062fc",
   "metadata": {},
   "outputs": [
    {
     "name": "stdout",
     "output_type": "stream",
     "text": [
      "2 3 5 7 11 13 17 19 23 29 31 37 41 43 47 53 59 61 67 71 73 79 83 89 97 "
     ]
    }
   ],
   "source": [
    "for i in range(2, 101):\n",
    "    f = True\n",
    "    for j in range(2, i):\n",
    "        if i % j == 0:\n",
    "            f = False\n",
    "            break\n",
    "    if f: \n",
    "        print(i, end=\" \")\n"
   ]
  },
  {
   "cell_type": "code",
   "execution_count": 72,
   "id": "d97a310b",
   "metadata": {},
   "outputs": [
    {
     "name": "stdout",
     "output_type": "stream",
     "text": [
      "5\n"
     ]
    }
   ],
   "source": [
    "str=input(\"Enter a string\")\n",
    "c=0\n",
    "for i in str:\n",
    "    if(i==\" \"):\n",
    "        c+=1\n",
    "print(c+1)"
   ]
  },
  {
   "cell_type": "code",
   "execution_count": 76,
   "id": "24a27c5e",
   "metadata": {},
   "outputs": [
    {
     "name": "stdout",
     "output_type": "stream",
     "text": [
      "The Final ticket price is 160.0\n"
     ]
    }
   ],
   "source": [
    "price=int(input(\"Enter Ticket Price\"))\n",
    "age=int(input(\"Enter Age\"))\n",
    "stu=input(\"[Y/N]\")\n",
    "if stu=='Y':\n",
    "    t=price-(20/100)*price\n",
    "elif stu=='N' and age>=60:\n",
    "    t=price-(10/100)*price\n",
    "else:\n",
    "    t=price\n",
    "print(\"The Final ticket price is\",t)"
   ]
  },
  {
   "cell_type": "code",
   "execution_count": 81,
   "id": "2a580ec7",
   "metadata": {},
   "outputs": [
    {
     "name": "stdout",
     "output_type": "stream",
     "text": [
      "Total Payable Amount: 350\n"
     ]
    }
   ],
   "source": [
    "tot=int(input(\"Enter the cart total\"))\n",
    "if tot>500:\n",
    "    print(\"Total Payable Amount:\",tot)\n",
    "else:\n",
    "    print(\"Total Payable Amount:\",tot+50)"
   ]
  },
  {
   "cell_type": "code",
   "execution_count": 82,
   "id": "71416bc5",
   "metadata": {},
   "outputs": [
    {
     "name": "stdout",
     "output_type": "stream",
     "text": [
      "grade B\n"
     ]
    }
   ],
   "source": [
    "marks=int(input(\"Enter marks in subject1\"))\n",
    "if marks<=100 and marks>=90:\n",
    "    print(\"grade A\")\n",
    "elif marks<=89 and marks>=75:\n",
    "    print(\"grade B\")\n",
    "elif marks<=74 and marks>=50:\n",
    "    print(\"grade C\")\n",
    "elif marks <50:\n",
    "    print(\"Fail\")\n"
   ]
  },
  {
   "cell_type": "code",
   "execution_count": 83,
   "id": "8ba09263",
   "metadata": {},
   "outputs": [
    {
     "name": "stdout",
     "output_type": "stream",
     "text": [
      "Total Payable Amount 825.0\n"
     ]
    }
   ],
   "source": [
    "bill=int(input(\"Enter the bill amount\"))\n",
    "if(bill<500):\n",
    "    tip=(5/100)*bill\n",
    "    print(\"Total Payable Amount\",bill+tip)\n",
    "elif(bill>=500 and bill<=1000):\n",
    "    tip=(10/100)*bill\n",
    "    print(\"Total Payable Amount\",bill+tip)\n",
    "elif(bill>1000):\n",
    "    tip=(15/100)*bill\n",
    "    print(\"Total Payable Amount\",bill+tip)"
   ]
  },
  {
   "cell_type": "code",
   "execution_count": 10,
   "id": "66c332c4",
   "metadata": {},
   "outputs": [
    {
     "name": "stdout",
     "output_type": "stream",
     "text": [
      "The membership plani is: 3200\n"
     ]
    }
   ],
   "source": [
    "months=int(input(\"Enter membership period\"))\n",
    "if months<6:\n",
    "    print(\"The membership plani is:\",months*500)\n",
    "elif months>=6 and months<12:\n",
    "    print(\"The membership plani is:\",2700+(months-6)*500)\n",
    "elif months==12:\n",
    "    print(\"The membership plani is:\",5000)"
   ]
  },
  {
   "cell_type": "code",
   "execution_count": 1,
   "id": "71f2d47b",
   "metadata": {},
   "outputs": [
    {
     "name": "stdout",
     "output_type": "stream",
     "text": [
      "Eligible for exam\n"
     ]
    }
   ],
   "source": [
    "tot=int(input(\"Enter the total number of classes\"))\n",
    "attended=int(input(\"Enter the total number of attended classes\"))\n",
    "percentage=(attended/tot)*100\n",
    "if(percentage<75):\n",
    "    print(\"Not Eligible for exam\")\n",
    "else:\n",
    "    print(\"Eligible for exam\")"
   ]
  },
  {
   "cell_type": "code",
   "execution_count": 3,
   "id": "79326878",
   "metadata": {},
   "outputs": [
    {
     "name": "stdout",
     "output_type": "stream",
     "text": [
      "Transaction Failed\n"
     ]
    }
   ],
   "source": [
    "a=int(input(\"Enter the total amount to withdraw\"))\n",
    "if a%100==0:\n",
    "    print(\"Transaction successful\")\n",
    "else:\n",
    "    print(\"Transaction Failed\")"
   ]
  },
  {
   "cell_type": "code",
   "execution_count": 4,
   "id": "d44d089c",
   "metadata": {},
   "outputs": [
    {
     "name": "stdout",
     "output_type": "stream",
     "text": [
      "\"Nice weather, go out!\"\n"
     ]
    }
   ],
   "source": [
    "temp=int(input(\"Enter the temperature in Celcius\"))\n",
    "if temp==35:\n",
    "    print('\"Too hot, stay indoors!\"')\n",
    "elif temp>=20 and temp<35:\n",
    "    print('\"Nice weather, go out!\"')\n",
    "elif temp<20:\n",
    "    print('\"It’s cold, wear warm clothes!\"')\n"
   ]
  },
  {
   "cell_type": "code",
   "execution_count": 6,
   "id": "06bd6644",
   "metadata": {},
   "outputs": [
    {
     "name": "stdout",
     "output_type": "stream",
     "text": [
      "Fine amount is 10 Rs.\n"
     ]
    }
   ],
   "source": [
    "days=int(input(\"Enter the number of late days\"))\n",
    "if days>=1 and days<=5:\n",
    "    print(\"Fine amount is 10 Rs.\")\n",
    "elif days>=6 and days<10:\n",
    "    print(\"Fine amount is 50 Rs.\")\n",
    "elif days>=10:\n",
    "    print(\"Fine amount is 100 Rs.\")"
   ]
  },
  {
   "cell_type": "code",
   "execution_count": 9,
   "id": "34c5e065",
   "metadata": {},
   "outputs": [
    {
     "name": "stdout",
     "output_type": "stream",
     "text": [
      "Total bill amount is: 250 Rs.\n"
     ]
    }
   ],
   "source": [
    "units=int(input(\"Enter the number of units consumed\"))\n",
    "if units<=100:\n",
    "    print(\"Total bill amount is:\",units*5,\"Rs.\")\n",
    "elif units<=200 and units>=101:\n",
    "    print(\"Total bill amount is:\",units*7,\"Rs.\")\n",
    "if units>200:\n",
    "    print(\"Total bill amount is:\",units*10,\"Rs.\")\n"
   ]
  }
 ],
 "metadata": {
  "kernelspec": {
   "display_name": "venv",
   "language": "python",
   "name": "python3"
  },
  "language_info": {
   "codemirror_mode": {
    "name": "ipython",
    "version": 3
   },
   "file_extension": ".py",
   "mimetype": "text/x-python",
   "name": "python",
   "nbconvert_exporter": "python",
   "pygments_lexer": "ipython3",
   "version": "3.11.0"
  }
 },
 "nbformat": 4,
 "nbformat_minor": 5
}
