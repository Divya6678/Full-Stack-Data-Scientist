{
 "cells": [
  {
   "cell_type": "code",
   "execution_count": 3,
   "id": "87bd1ece",
   "metadata": {},
   "outputs": [
    {
     "name": "stdout",
     "output_type": "stream",
     "text": [
      "Before Swpping\n",
      "5\n",
      "6\n",
      "After Swapping\n",
      "6\n",
      "5\n"
     ]
    }
   ],
   "source": [
    "a=5\n",
    "b=6\n",
    "print(\"Before Swpping\")\n",
    "print(a)\n",
    "print(b)\n",
    "a=a+b\n",
    "b=a-b\n",
    "a=a-b\n",
    "print(\"After Swapping\")\n",
    "print(a)\n",
    "print(b)"
   ]
  },
  {
   "cell_type": "code",
   "execution_count": 10,
   "id": "52af7168",
   "metadata": {},
   "outputs": [
    {
     "name": "stdout",
     "output_type": "stream",
     "text": [
      "o l l e h\n"
     ]
    }
   ],
   "source": [
    "str=input()\n",
    "str1=\" \".join(reversed(str))\n",
    "print(str1)"
   ]
  },
  {
   "cell_type": "code",
   "execution_count": 22,
   "id": "ec2c1ca5",
   "metadata": {},
   "outputs": [
    {
     "name": "stdout",
     "output_type": "stream",
     "text": [
      "No\n"
     ]
    }
   ],
   "source": [
    "a=int(input())\n",
    "temp=a\n",
    "n=0\n",
    "while(a>0):\n",
    "     r=a%10\n",
    "     n+=r*r*r\n",
    "     a=a//10\n",
    "if(temp==n):\n",
    "    print(\"Yes\")\n",
    "else:\n",
    "    print(\"No\")"
   ]
  },
  {
   "cell_type": "code",
   "execution_count": 27,
   "id": "5bc14eef",
   "metadata": {},
   "outputs": [
    {
     "name": "stdout",
     "output_type": "stream",
     "text": [
      "3\n",
      "7\n"
     ]
    }
   ],
   "source": [
    "str=input()\n",
    "str=str.lower()\n",
    "c1=0\n",
    "c2=0\n",
    "for i in str:\n",
    "    if i in['a','e','i','o','u']:\n",
    "        c1+=1\n",
    "    else:\n",
    "        c2+=1\n",
    "print(c1)\n",
    "print(c2)"
   ]
  },
  {
   "cell_type": "code",
   "execution_count": 30,
   "id": "aa20b080",
   "metadata": {},
   "outputs": [
    {
     "name": "stdout",
     "output_type": "stream",
     "text": [
      "5 x 1 = 5\n",
      "5 x 2 = 10\n",
      "5 x 3 = 15\n",
      "5 x 4 = 20\n",
      "5 x 5 = 25\n",
      "5 x 6 = 30\n",
      "5 x 7 = 35\n",
      "5 x 8 = 40\n",
      "5 x 9 = 45\n",
      "5 x 10 = 50\n"
     ]
    }
   ],
   "source": [
    "a=int(input())\n",
    "for i in range(1,11):\n",
    "    print(a,\"x\",i,\"=\",a*i)"
   ]
  },
  {
   "cell_type": "code",
   "execution_count": 34,
   "id": "464f8ae2",
   "metadata": {},
   "outputs": [
    {
     "name": "stdout",
     "output_type": "stream",
     "text": [
      "No\n"
     ]
    }
   ],
   "source": [
    "a=int(input())\n",
    "if (a%4==0 and a%100!=0) or (a%400==0):\n",
    "    print(\"Yes\")\n",
    "else:\n",
    "    print(\"No\")"
   ]
  }
 ],
 "metadata": {
  "kernelspec": {
   "display_name": "Python 3",
   "language": "python",
   "name": "python3"
  },
  "language_info": {
   "codemirror_mode": {
    "name": "ipython",
    "version": 3
   },
   "file_extension": ".py",
   "mimetype": "text/x-python",
   "name": "python",
   "nbconvert_exporter": "python",
   "pygments_lexer": "ipython3",
   "version": "3.11.0"
  }
 },
 "nbformat": 4,
 "nbformat_minor": 5
}
