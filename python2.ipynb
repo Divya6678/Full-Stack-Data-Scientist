{
 "cells": [
  {
   "cell_type": "code",
   "execution_count": 4,
   "id": "e99ad962",
   "metadata": {},
   "outputs": [
    {
     "name": "stdout",
     "output_type": "stream",
     "text": [
      "Total Bill 310\n"
     ]
    }
   ],
   "source": [
    "price1,quantity1=map(int,input(\"Enter price and quantity of item 1\").split())\n",
    "price2,quantity2=map(int,input(\"Enter price and quantity of item 2\").split())\n",
    "price3,quantity3=map(int,input(\"Enter price and quantity of item 3\").split())\n",
    "total=(price1*quantity1)+(price2*quantity2)+(price3*quantity3)\n",
    "print(\"Total Bill\",total)"
   ]
  },
  {
   "cell_type": "code",
   "execution_count": 6,
   "id": "2ecae77b",
   "metadata": {},
   "outputs": [
    {
     "name": "stdout",
     "output_type": "stream",
     "text": [
      "Addition: 19\n",
      "Substraction: 11\n",
      "Multiplication 60\n",
      "Division 3.75\n",
      "Modulus 3\n"
     ]
    }
   ],
   "source": [
    "a=int(input(\"Enter number 1\"))\n",
    "b=int(input(\"Enter number 2\"))\n",
    "print(\"Addition:\",a+b)\n",
    "print(\"Substraction:\",a-b)\n",
    "print(\"Multiplication\",a*b)\n",
    "print(\"Division\",a/b)\n",
    "print(\"Modulus\",a%b)\n"
   ]
  },
  {
   "cell_type": "code",
   "execution_count": 8,
   "id": "02c8b092",
   "metadata": {},
   "outputs": [
    {
     "name": "stdout",
     "output_type": "stream",
     "text": [
      "Grade A (Excellent)\n"
     ]
    }
   ],
   "source": [
    "l=int(input(\"Enter the marks\"))\n",
    "if(l>=90):\n",
    "    print(\"Grade A+ (Excellent)\")\n",
    "elif(l>=80 and l<=89):\n",
    "    print(\"Grade A (Excellent)\")\n",
    "elif(l>=70 and l<=79):\n",
    "    print(\"Grade B\")\n",
    "elif(l>=60 and l<=69):\n",
    "    print(\"Grade C\")\n",
    "elif l<60:\n",
    "    print(\"Fail\")"
   ]
  },
  {
   "cell_type": "code",
   "execution_count": 9,
   "id": "acb15170",
   "metadata": {},
   "outputs": [
    {
     "name": "stdout",
     "output_type": "stream",
     "text": [
      "Highest Marks 90\n",
      "Lowest Marks 45\n",
      "Average Marks 71.4\n"
     ]
    }
   ],
   "source": [
    "l=list(map(int,input(\"Enter list elements\").split()))\n",
    "sl=sorted(l)\n",
    "print(\"Highest Marks\",max(sl))\n",
    "print(\"Lowest Marks\",min(sl))\n",
    "print(\"Average Marks\",sum(l)/len(l))\n"
   ]
  },
  {
   "cell_type": "code",
   "execution_count": 2,
   "id": "2a6fe4e3",
   "metadata": {},
   "outputs": [
    {
     "name": "stdout",
     "output_type": "stream",
     "text": [
      "Phonenumber of Ravi: 9123456780\n"
     ]
    }
   ],
   "source": [
    "\n",
    "Phonebook = {\"Suhel\": 9876543210, \"Ravi\": 9123456780, \"Anita\": 9988776655}\n",
    "name=input(\"Enter name to search:\")\n",
    "print(f\"Phonenumber of {name}:\",Phonebook.get(name))"
   ]
  },
  {
   "cell_type": "code",
   "execution_count": 7,
   "id": "8470789c",
   "metadata": {},
   "outputs": [
    {
     "name": "stdout",
     "output_type": "stream",
     "text": [
      "Total Words = 3\n",
      "Total Characters = 16\n",
      "Total Vowels = 6\n"
     ]
    }
   ],
   "source": [
    "w=0\n",
    "c=0\n",
    "v=0\n",
    "str=input(\"Enter sentence\")\n",
    "for i in str:\n",
    "    if i==' ':\n",
    "        w+=1\n",
    "    if i in ['a','e','i','o','u']:\n",
    "        v+=1\n",
    "print(\"Total Words =\",w+1)\n",
    "print(\"Total Characters =\",len(str)-1)\n",
    "print(\"Total Vowels =\",v)"
   ]
  },
  {
   "cell_type": "code",
   "execution_count": 3,
   "id": "e6050ee4",
   "metadata": {},
   "outputs": [
    {
     "name": "stdout",
     "output_type": "stream",
     "text": [
      "Compound Interest = 512.50\n",
      "Total Amount = 5512.50\n"
     ]
    }
   ],
   "source": [
    "principal = int(input(\"Enter the principal amount: \"))\n",
    "rate = int(input(\"Enter the annual interest rate (in %): \"))\n",
    "time = int(input(\"Enter the time in years: \"))\n",
    "interest = input(\"Enter interest type (Simple/Compound): \").lower()\n",
    "\n",
    "if interest == \"simple\":\n",
    "    simple_interest = (principal * rate * time) / 100\n",
    "    total_amount = principal + simple_interest\n",
    "    print(f\"Simple Interest = {simple_interest:.2f}\")\n",
    "    print(f\"Total Amount = {total_amount:.2f}\")\n",
    "\n",
    "elif interest == \"compound\":\n",
    "    total_amount = principal * (1 + rate/100) ** time\n",
    "    compound_interest = total_amount - principal\n",
    "    print(f\"Compound Interest = {compound_interest:.2f}\")\n",
    "    print(f\"Total Amount = {total_amount:.2f}\")"
   ]
  },
  {
   "cell_type": "code",
   "execution_count": 10,
   "id": "4d2fd286",
   "metadata": {},
   "outputs": [
    {
     "name": "stdout",
     "output_type": "stream",
     "text": [
      "Encrypted Message:KHOOR"
     ]
    }
   ],
   "source": [
    "msg=input(\"Enter Message\")\n",
    "shift=int(input(\"Enter shift\"))\n",
    "print(\"Encrypted Message:\",end=\"\")\n",
    "for i in msg:\n",
    "    a=ord(i)+shift\n",
    "    print(chr(a),end=\"\")"
   ]
  },
  {
   "cell_type": "code",
   "execution_count": 13,
   "id": "94208f72",
   "metadata": {},
   "outputs": [
    {
     "name": "stdout",
     "output_type": "stream",
     "text": [
      "PIN Verified.\n",
      "Withdrawal Successful. Remaining Balance = 3000\n"
     ]
    }
   ],
   "source": [
    "\n",
    "correct_pin = 1234\n",
    "balance = 5000\n",
    "entered_pin = int(input(\"Enter your PIN: \"))\n",
    "\n",
    "if entered_pin == correct_pin:\n",
    "    print(\"PIN Verified.\")\n",
    "    withdraw_amount = int(input(\"Enter amount to withdraw: \"))\n",
    "    \n",
    "    if withdraw_amount <= balance:\n",
    "        balance -= withdraw_amount\n",
    "        print(f\"Withdrawal Successful. Remaining Balance = {balance}\")\n",
    "    else:\n",
    "        print(\"Insufficient Balance.\")\n",
    "else:\n",
    "    print(\"Incorrect PIN. Access Denied.\")\n"
   ]
  },
  {
   "cell_type": "code",
   "execution_count": 14,
   "id": "6e61a372",
   "metadata": {},
   "outputs": [
    {
     "name": "stdout",
     "output_type": "stream",
     "text": [
      "Current Books: ['Python Basics', 'AI Fundamentals', 'Machine Learning']\n",
      "Total Books: 3\n"
     ]
    }
   ],
   "source": [
    "Books = [\"Python Basics\", \"Data Science\", \"AI Fundamentals\"]\n",
    "Books.append(\"Machine Learning\")\n",
    "Books.remove(\"Data Science\")\n",
    "print(\"Current Books:\",Books)\n",
    "print(\"Total Books:\",len(Books))"
   ]
  }
 ],
 "metadata": {
  "kernelspec": {
   "display_name": "venv",
   "language": "python",
   "name": "python3"
  },
  "language_info": {
   "codemirror_mode": {
    "name": "ipython",
    "version": 3
   },
   "file_extension": ".py",
   "mimetype": "text/x-python",
   "name": "python",
   "nbconvert_exporter": "python",
   "pygments_lexer": "ipython3",
   "version": "3.11.0"
  }
 },
 "nbformat": 4,
 "nbformat_minor": 5
}
